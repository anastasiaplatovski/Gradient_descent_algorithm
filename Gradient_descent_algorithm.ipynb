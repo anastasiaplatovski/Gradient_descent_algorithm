{
 "cells": [
  {
   "cell_type": "code",
   "execution_count": 1,
   "metadata": {},
   "outputs": [],
   "source": [
    "import csv"
   ]
  },
  {
   "cell_type": "code",
   "execution_count": 2,
   "metadata": {},
   "outputs": [],
   "source": [
    "dframe = \"random1.csv\""
   ]
  },
  {
   "cell_type": "code",
   "execution_count": 3,
   "metadata": {},
   "outputs": [],
   "source": [
    "def read_csv():\n",
    "    with open(dframe, newline='') as f:\n",
    "        reader = csv.reader(f)\n",
    "        data = list(reader)\n",
    "    lst = []\n",
    "    for i in data:\n",
    "        for k in i:\n",
    "            lst.append(float(k))\n",
    "    data = [lst[i:i + 3] for i in range(0, len(lst), 3)]\n",
    "    return data"
   ]
  },
  {
   "cell_type": "code",
   "execution_count": 4,
   "metadata": {},
   "outputs": [
    {
     "name": "stdout",
     "output_type": "stream",
     "text": [
      "0,0,0,0,6534.5156\n",
      "1,-0.0285,0.4694,-0.3531,1450.3823\n",
      "2,-0.0467,0.6909,-0.5175,326.5083\n",
      "3,-0.0598,0.7954,-0.5941,77.1704\n",
      "4,-0.0699,0.8446,-0.6297,21.1495\n",
      "5,-0.0782,0.8677,-0.6463,7.9994\n",
      "6,-0.0853,0.8785,-0.654,4.4648\n",
      "7,-0.0916,0.8835,-0.6575,3.1732\n",
      "8,-0.0972,0.8858,-0.6592,2.4739\n",
      "9,-0.1021,0.8868,-0.6599,1.9837\n",
      "10,-0.1066,0.8872,-0.6602,1.6033\n",
      "11,-0.1106,0.8874,-0.6603,1.2987\n",
      "12,-0.1142,0.8874,-0.6604,1.0526\n",
      "13,-0.1174,0.8874,-0.6603,0.8533\n",
      "14,-0.1203,0.8873,-0.6603,0.6917\n",
      "15,-0.123,0.8873,-0.6603,0.5608\n",
      "16,-0.1253,0.8872,-0.6603,0.4546\n",
      "17,-0.1274,0.8872,-0.6602,0.3685\n",
      "18,-0.1294,0.8871,-0.6602,0.2988\n",
      "19,-0.1311,0.8871,-0.6602,0.2422\n",
      "20,-0.1326,0.887,-0.6602,0.1963\n",
      "21,-0.134,0.887,-0.6602,0.1592\n",
      "22,-0.1353,0.887,-0.6601,0.129\n",
      "23,-0.1364,0.8869,-0.6601,0.1046\n",
      "24,-0.1374,0.8869,-0.6601,0.0848\n",
      "25,-0.1384,0.8869,-0.6601,0.0687\n",
      "26,-0.1392,0.8869,-0.6601,0.0557\n",
      "27,-0.1399,0.8868,-0.6601,0.0452\n",
      "28,-0.1406,0.8868,-0.6601,0.0366\n",
      "29,-0.1412,0.8868,-0.6601,0.0297\n",
      "30,-0.1418,0.8868,-0.6601,0.0241\n",
      "31,-0.1422,0.8868,-0.6601,0.0195\n",
      "32,-0.1427,0.8868,-0.6601,0.0158\n",
      "33,-0.1431,0.8868,-0.66,0.0128\n",
      "34,-0.1434,0.8868,-0.66,0.0104\n",
      "35,-0.1438,0.8867,-0.66,0.0084\n",
      "36,-0.144,0.8867,-0.66,0.0068\n",
      "37,-0.1443,0.8867,-0.66,0.0055\n",
      "38,-0.1445,0.8867,-0.66,0.0045\n",
      "39,-0.1448,0.8867,-0.66,0.0036\n",
      "40,-0.1449,0.8867,-0.66,0.003\n",
      "41,-0.1451,0.8867,-0.66,0.0024\n",
      "42,-0.1453,0.8867,-0.66,0.0019\n",
      "43,-0.1454,0.8867,-0.66,0.0016\n",
      "44,-0.1455,0.8867,-0.66,0.0013\n",
      "45,-0.1456,0.8867,-0.66,0.001\n",
      "46,-0.1458,0.8867,-0.66,0.0008\n",
      "47,-0.1458,0.8867,-0.66,0.0007\n",
      "48,-0.1459,0.8867,-0.66,0.0006\n",
      "49,-0.146,0.8867,-0.66,0.0004\n",
      "50,-0.1461,0.8867,-0.66,0.0004\n"
     ]
    }
   ],
   "source": [
    "def gradient_descent():\n",
    "    df = read_csv()\n",
    "    weight_0 = 0\n",
    "    weight_1 = 0\n",
    "    weight_2 = 0\n",
    "    iteration_number = 0\n",
    "    learning_rate = 0.0001\n",
    "    threshold = 0.0001\n",
    "    diff = 1\n",
    "    squared_sum_of_errors = 0\n",
    "    while diff > threshold:\n",
    "\n",
    "        squared_sum_of_errors_current = 0\n",
    "        gradient_0 = 0\n",
    "        gradient_1 = 0\n",
    "        gradient_2 = 0\n",
    "\n",
    "        for i in range(len(df)):\n",
    "            x_0 = 1\n",
    "            x_1 = df[i][0]\n",
    "            x_2 = df[i][1]\n",
    "            y = df[i][2]\n",
    "            y_current = weight_0 * x_0 + weight_1 * x_1 + weight_2 * x_2\n",
    "            gradient_0 = gradient_0 + x_0 * (y - y_current)\n",
    "            gradient_1 = gradient_1 + x_1 * (y - y_current)\n",
    "            gradient_2 = gradient_2 + x_2 * (y - y_current)\n",
    "            squared_sum_of_errors_current = squared_sum_of_errors_current + ((y - y_current) ** 2)\n",
    "        print(str(iteration_number) + \",\" + str(round(weight_0, 4)) + \",\" + str(round(weight_1, 4)) + \",\" + str(\n",
    "            round(weight_2, 4)) + \",\" + str(round(squared_sum_of_errors_current, 4)))\n",
    "        diff = abs(squared_sum_of_errors - squared_sum_of_errors_current)\n",
    "        squared_sum_of_errors = squared_sum_of_errors_current\n",
    "        weight_0 = weight_0 + learning_rate * gradient_0\n",
    "        weight_1 = weight_1 + learning_rate * gradient_1\n",
    "        weight_2 = weight_2 + learning_rate * gradient_2\n",
    "\n",
    "        iteration_number = iteration_number + 1\n",
    "\n",
    "\n",
    "gradient_descent()"
   ]
  }
 ],
 "metadata": {
  "kernelspec": {
   "display_name": "Python 3",
   "language": "python",
   "name": "python3"
  },
  "language_info": {
   "codemirror_mode": {
    "name": "ipython",
    "version": 3
   },
   "file_extension": ".py",
   "mimetype": "text/x-python",
   "name": "python",
   "nbconvert_exporter": "python",
   "pygments_lexer": "ipython3",
   "version": "3.8.5"
  }
 },
 "nbformat": 4,
 "nbformat_minor": 4
}
